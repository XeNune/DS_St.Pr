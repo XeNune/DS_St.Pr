{
 "cells": [
  {
   "cell_type": "code",
   "execution_count": null,
   "id": "fa66b4f7-6cee-4609-a7b1-dba0b1be6ea7",
   "metadata": {},
   "outputs": [],
   "source": [
    "import numpy as np\n",
    "N = int(input())\n",
    "a = np.arange(N, -1, -1) # изначальное, конечное, шаг\n",
    "a"
   ]
  },
  {
   "cell_type": "code",
   "execution_count": null,
   "id": "405defe4-c7e2-4fa2-9533-e9266e82bc8f",
   "metadata": {},
   "outputs": [],
   "source": [
    "import numpy as np\n",
    "n = int(input())\n",
    "b = np.sum(np.diag(np.arange(n, 0 , -1)))\n",
    "b"
   ]
  },
  {
   "cell_type": "code",
   "execution_count": 2,
   "id": "83b3224b-df6a-4aa7-a88c-8618de588fe2",
   "metadata": {},
   "outputs": [
    {
     "name": "stdout",
     "output_type": "stream",
     "text": [
      "[ 0.46666667  3.84444444 -5.55555556]\n"
     ]
    }
   ],
   "source": [
    "import numpy as np\n",
    "from numpy import linalg\n",
    "a = np.array([[4,2,1],[1,3,0],[0,5,4]])\n",
    "b = np.array([4,12,-3])\n",
    "solve = linalg.solve(a, b)\n",
    "print(solve)"
   ]
  },
  {
   "cell_type": "code",
   "execution_count": 3,
   "id": "863c4f3b-8da5-4059-a8ff-bc437412e895",
   "metadata": {},
   "outputs": [
    {
     "name": "stdout",
     "output_type": "stream",
     "text": [
      "Max cos similiarity = 95.0 % Index of max value = 6\n"
     ]
    }
   ],
   "source": [
    "import numpy as np\n",
    "users_stats = np.array(\n",
    "    [\n",
    "        [2, 1, 0, 0, 0, 0],\n",
    "        [1, 1, 2, 1, 0, 0],\n",
    "        [2, 0, 1, 0, 0, 0],\n",
    "        [1, 1, 2, 1, 0, 1],\n",
    "        [0, 0, 1, 2, 0, 0],\n",
    "        [0, 0, 0, 0, 0, 5],\n",
    "        [1, 0, 0, 0, 0, 0],\n",
    "        [0, 1, 1, 0, 0, 0],\n",
    "        [0, 0, 0, 1, 1, 3],\n",
    "        [1, 0, 0, 2, 1, 4]\n",
    "    ], \n",
    "    np.int32\n",
    ")\n",
    "from numpy import dot\n",
    "from numpy.linalg import norm\n",
    "next_user_stats = np.array([[0, 1, 2, 0, 0, 0]])\n",
    "res_max_similiar = []\n",
    "for i in users_stats:\n",
    "    cos_sim = dot(next_user_stats, i)/(norm(next_user_stats)*norm(i))\n",
    "    res_max_similiar.append(cos_sim)\n",
    "print('Max cos similiarity =',round(max(res_max_similiar)[0],2)*100,'%', 'Index of max value =', np.argmax(res_max_similiar)-1)"
   ]
  },
  {
   "cell_type": "code",
   "execution_count": null,
   "id": "1fb55df6-a337-4a50-9d24-f302709a61ef",
   "metadata": {},
   "outputs": [],
   "source": []
  }
 ],
 "metadata": {
  "kernelspec": {
   "display_name": "Python 3 (ipykernel)",
   "language": "python",
   "name": "python3"
  },
  "language_info": {
   "codemirror_mode": {
    "name": "ipython",
    "version": 3
   },
   "file_extension": ".py",
   "mimetype": "text/x-python",
   "name": "python",
   "nbconvert_exporter": "python",
   "pygments_lexer": "ipython3",
   "version": "3.9.7"
  }
 },
 "nbformat": 4,
 "nbformat_minor": 5
}
